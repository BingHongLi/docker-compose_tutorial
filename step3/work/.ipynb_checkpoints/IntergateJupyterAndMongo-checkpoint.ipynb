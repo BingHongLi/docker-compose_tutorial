{
 "cells": [
  {
   "cell_type": "code",
   "execution_count": null,
   "metadata": {},
   "outputs": [],
   "source": [
    "!pip install flask==0.12 \n",
    "!pip install pymongo"
   ]
  },
  {
   "cell_type": "code",
   "execution_count": null,
   "metadata": {},
   "outputs": [],
   "source": [
    "from flask import Flask\n",
    "app = Flask(__name__)\n",
    "import pymongo\n",
    "client = pymongo.MongoClient(\"mongo.local\",27017)\n",
    "db = client.db #選擇名稱叫db的數據庫,沒有會創建\n",
    "collection = db.test #選擇test名的collection,沒有會創建\n",
    "\n",
    "@app.route(\"/\") #test flask on\n",
    "def index():\n",
    "    return \"hello world!\"\n",
    "@app.route(\"/db/user\",methods=['GET'])\n",
    "def insert():\n",
    "    collection.insert({'name':'aaa','user':'guest'})\n",
    "    collection.insert([{'name':'abc'},{'name':'acc'}])\n",
    "    e = collection.insert_one({'name':'ddd'})\n",
    "    obj =  {'x':'z'}\n",
    "    collection.insert_one(obj)\n",
    "    return \"insert ok!\"\n",
    "@app.route(\"/db/user\",methods=['POST'])\n",
    "def get_data():\n",
    "    a1 = collection.find_one({'name':'aaa'})\n",
    "    b1 = a1['user']\n",
    "    a2 = collection.find_one({'name':'abc'})\n",
    "    b2 = a2['name']\n",
    "    a3 = collection.find_one({'x':'z'})\n",
    "    b3 = a3['x']\n",
    "    return b1+\"/\"+b2+\"/\"+b3\n",
    "\n",
    "if __name__ == \"__main__\":\n",
    "    # Only for debugging while developing\n",
    "    app.run(host='0.0.0.0', debug=False)"
   ]
  },
  {
   "cell_type": "code",
   "execution_count": null,
   "metadata": {},
   "outputs": [],
   "source": []
  }
 ],
 "metadata": {
  "kernelspec": {
   "display_name": "Python 3",
   "language": "python",
   "name": "python3"
  },
  "language_info": {
   "codemirror_mode": {
    "name": "ipython",
    "version": 3
   },
   "file_extension": ".py",
   "mimetype": "text/x-python",
   "name": "python",
   "nbconvert_exporter": "python",
   "pygments_lexer": "ipython3",
   "version": "3.6.4"
  }
 },
 "nbformat": 4,
 "nbformat_minor": 2
}
